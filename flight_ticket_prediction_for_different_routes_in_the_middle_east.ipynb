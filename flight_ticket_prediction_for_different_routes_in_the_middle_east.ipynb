{
 "cells": [
  {
   "cell_type": "markdown",
   "id": "31d18368",
   "metadata": {},
   "source": [
    "## Introduction"
   ]
  },
  {
   "cell_type": "markdown",
   "id": "876a8007",
   "metadata": {},
   "source": [
    "##### In this project, flight data (ticket prices, dates, routes, duration and distance) of different airlines in the middle-east was obtained, analyzed and fitted to several regression models. "
   ]
  },
  {
   "cell_type": "code",
   "execution_count": null,
   "id": "fb93499f",
   "metadata": {},
   "outputs": [],
   "source": []
  },
  {
   "cell_type": "markdown",
   "id": "34ae8745",
   "metadata": {},
   "source": [
    "#### Importing Libraries"
   ]
  },
  {
   "cell_type": "code",
   "execution_count": 63,
   "id": "9eda882f",
   "metadata": {},
   "outputs": [],
   "source": [
    "import pandas as pd\n",
    "import numpy as np\n",
    "import seaborn as sns\n",
    "from scipy.stats import iqr\n",
    "import plotly.express as px\n",
    "import pickle as pkl\n",
    "sns.set()\n",
    "import matplotlib.pyplot as plt\n",
    "from sklearn.linear_model import Lasso, Ridge, LinearRegression, ElasticNet, SGDRegressor\n",
    "from sklearn.preprocessing import StandardScaler, PolynomialFeatures\n",
    "from sklearn import metrics\n",
    "from sklearn.pipeline import make_pipeline\n",
    "from sklearn.metrics import mean_squared_error, r2_score, mean_absolute_error\n",
    "from sklearn.model_selection import train_test_split, cross_val_score, KFold, GridSearchCV\n",
    "from sklearn.tree import DecisionTreeRegressor\n",
    "from sklearn.neural_network import MLPRegressor\n",
    "from sklearn.ensemble import GradientBoostingRegressor, RandomForestRegressor, ExtraTreesRegressor\n",
    "from sklearn.svm import SVR\n",
    "from sklearn.svm import LinearSVR\n",
    "from sklearn.model_selection import GridSearchCV"
   ]
  },
  {
   "cell_type": "markdown",
   "id": "920baac9",
   "metadata": {},
   "source": [
    "#### Flight Distances for different routes"
   ]
  },
  {
   "cell_type": "code",
   "execution_count": 2,
   "id": "5790d559",
   "metadata": {},
   "outputs": [],
   "source": [
    "distance_dict = {'DMM-ELQ':601,'DMM-JED':1205,'DMM-MED':1036,'DMM-RAE':977,'DMM-RUH':354,'DMM-TIF':1091,'DMM-TUU':1315,\n",
    "                 'DMM-YNB':1214,'DXB-AHB':2006,'DXB-DMM':573,'DXB-ELQ':1165,'DXB-JED':1700,'DXB-MED':1581,'DXB-RUH':870,\n",
    "                 'DXB-TUU':1893,'IST-DMM':2534,'IST-ELQ':2160,'IST-JED':2382,'IST-MED':2115,'IST-RUH':2455,'IST-TIF':2428,\n",
    "                 'IST-TUU':1566,'JED-AHB':528,'JED-AJF':903,'JED-AQI':1019,'JED-DMM':1205,'JED-ELQ':695,'JED-GIZ':641,\n",
    "                 'JED-HAS':687,'JED-MED':325,'JED-RUH':852,'JED-TUU':784,'MED-RUH':709,'MNL-AHB':8305,'MNL-DMM':7461,\n",
    "                 'MNL-ELQ':1166,'MNL-JED':8607,'MNL-MED':8171,'MNL-RUH':7788,'MNL-TUU':1616,'RUH-AHB':858,'RUH-AMM':1296,\n",
    "                 'RUH-CAI':1614,'RUH-DAC':4408,'RUH-DMM':353.25,'RUH-DXB':875,'RUH-IST':2455,'RUH-JED':852,'RUH-MCT':1186,\n",
    "                 'RUH-MED':709,'RUH-MNL':7788,'RUH-NYC':10500}"
   ]
  },
  {
   "cell_type": "code",
   "execution_count": null,
   "id": "65190897",
   "metadata": {},
   "outputs": [],
   "source": []
  },
  {
   "cell_type": "markdown",
   "id": "8ee257dd",
   "metadata": {},
   "source": [
    "#### Read in data"
   ]
  },
  {
   "cell_type": "code",
   "execution_count": 3,
   "id": "cfafdc5f",
   "metadata": {},
   "outputs": [
    {
     "data": {
      "text/html": [
       "<div>\n",
       "<style scoped>\n",
       "    .dataframe tbody tr th:only-of-type {\n",
       "        vertical-align: middle;\n",
       "    }\n",
       "\n",
       "    .dataframe tbody tr th {\n",
       "        vertical-align: top;\n",
       "    }\n",
       "\n",
       "    .dataframe thead th {\n",
       "        text-align: right;\n",
       "    }\n",
       "</style>\n",
       "<table border=\"1\" class=\"dataframe\">\n",
       "  <thead>\n",
       "    <tr style=\"text-align: right;\">\n",
       "      <th></th>\n",
       "      <th>Airline</th>\n",
       "      <th>Source</th>\n",
       "      <th>Destination</th>\n",
       "      <th>Duration</th>\n",
       "      <th>Total stops</th>\n",
       "      <th>Price</th>\n",
       "      <th>Date</th>\n",
       "    </tr>\n",
       "  </thead>\n",
       "  <tbody>\n",
       "    <tr>\n",
       "      <th>0</th>\n",
       "      <td>SAUDIA</td>\n",
       "      <td>DMM</td>\n",
       "      <td>ELQ</td>\n",
       "      <td>12h 20m</td>\n",
       "      <td>1 stop</td>\n",
       "      <td>469 SAR</td>\n",
       "      <td>2022-06-01</td>\n",
       "    </tr>\n",
       "    <tr>\n",
       "      <th>1</th>\n",
       "      <td>SAUDIA</td>\n",
       "      <td>DMM</td>\n",
       "      <td>ELQ</td>\n",
       "      <td>4h 40m</td>\n",
       "      <td>1 stop</td>\n",
       "      <td>988 SAR</td>\n",
       "      <td>2022-06-01</td>\n",
       "    </tr>\n",
       "    <tr>\n",
       "      <th>2</th>\n",
       "      <td>SAUDIA</td>\n",
       "      <td>DMM</td>\n",
       "      <td>ELQ</td>\n",
       "      <td>12h 20m</td>\n",
       "      <td>1 stop</td>\n",
       "      <td>432 SAR</td>\n",
       "      <td>2022-06-01</td>\n",
       "    </tr>\n",
       "    <tr>\n",
       "      <th>3</th>\n",
       "      <td>SAUDIA</td>\n",
       "      <td>DMM</td>\n",
       "      <td>ELQ</td>\n",
       "      <td>7h 20m</td>\n",
       "      <td>1 stop</td>\n",
       "      <td>621 SAR</td>\n",
       "      <td>2022-06-01</td>\n",
       "    </tr>\n",
       "    <tr>\n",
       "      <th>4</th>\n",
       "      <td>SAUDIA</td>\n",
       "      <td>DMM</td>\n",
       "      <td>ELQ</td>\n",
       "      <td>5h 40m</td>\n",
       "      <td>1 stop</td>\n",
       "      <td>751 SAR</td>\n",
       "      <td>2022-06-01</td>\n",
       "    </tr>\n",
       "  </tbody>\n",
       "</table>\n",
       "</div>"
      ],
      "text/plain": [
       "  Airline Source Destination  Duration Total stops     Price        Date\n",
       "0  SAUDIA    DMM         ELQ  12h 20m      1 stop   469 SAR   2022-06-01\n",
       "1  SAUDIA    DMM         ELQ   4h 40m      1 stop   988 SAR   2022-06-01\n",
       "2  SAUDIA    DMM         ELQ  12h 20m      1 stop   432 SAR   2022-06-01\n",
       "3  SAUDIA    DMM         ELQ   7h 20m      1 stop   621 SAR   2022-06-01\n",
       "4  SAUDIA    DMM         ELQ   5h 40m      1 stop   751 SAR   2022-06-01"
      ]
     },
     "execution_count": 3,
     "metadata": {},
     "output_type": "execute_result"
    }
   ],
   "source": [
    "# read in data\n",
    "df = pd.read_csv('raw.csv')\n",
    "df.head()"
   ]
  },
  {
   "cell_type": "code",
   "execution_count": null,
   "id": "381257d4",
   "metadata": {},
   "outputs": [],
   "source": []
  },
  {
   "cell_type": "markdown",
   "id": "7ef1718a",
   "metadata": {},
   "source": [
    "#### Check for null values"
   ]
  },
  {
   "cell_type": "code",
   "execution_count": 4,
   "id": "7e007967",
   "metadata": {},
   "outputs": [
    {
     "data": {
      "text/plain": [
       "Airline        0\n",
       "Source         0\n",
       "Destination    0\n",
       "Duration       0\n",
       "Total stops    0\n",
       "Price          0\n",
       "Date           0\n",
       "dtype: int64"
      ]
     },
     "execution_count": 4,
     "metadata": {},
     "output_type": "execute_result"
    }
   ],
   "source": [
    "df.isnull().sum()"
   ]
  },
  {
   "cell_type": "code",
   "execution_count": 5,
   "id": "7bfbf814",
   "metadata": {},
   "outputs": [
    {
     "data": {
      "text/plain": [
       "(17507, 7)"
      ]
     },
     "execution_count": 5,
     "metadata": {},
     "output_type": "execute_result"
    }
   ],
   "source": [
    "df.shape"
   ]
  },
  {
   "cell_type": "code",
   "execution_count": null,
   "id": "b145a81a",
   "metadata": {},
   "outputs": [],
   "source": []
  },
  {
   "cell_type": "markdown",
   "id": "f8ebdaa8",
   "metadata": {},
   "source": [
    "#### Remove duplicates"
   ]
  },
  {
   "cell_type": "code",
   "execution_count": 6,
   "id": "a68df666",
   "metadata": {},
   "outputs": [],
   "source": [
    "df = df[df.duplicated(subset=None,keep='first') != True]"
   ]
  },
  {
   "cell_type": "code",
   "execution_count": 7,
   "id": "ad99140d",
   "metadata": {},
   "outputs": [
    {
     "data": {
      "text/plain": [
       "(15148, 7)"
      ]
     },
     "execution_count": 7,
     "metadata": {},
     "output_type": "execute_result"
    }
   ],
   "source": [
    "df.shape"
   ]
  },
  {
   "cell_type": "code",
   "execution_count": null,
   "id": "21966236",
   "metadata": {},
   "outputs": [],
   "source": []
  },
  {
   "cell_type": "markdown",
   "id": "3108dc16",
   "metadata": {},
   "source": [
    "#### Defining new functions for creating new columns and cleaning data"
   ]
  },
  {
   "cell_type": "code",
   "execution_count": 8,
   "id": "c9426859",
   "metadata": {},
   "outputs": [],
   "source": [
    "df['Route'] = df['Source'] + '-' + df['Destination']\n",
    "\n",
    "# Functions for creating new columns; Feature Engineering\n",
    "def distance(x):\n",
    "    for key in list(distance_dict.keys()):\n",
    "        if key == x:\n",
    "            return distance_dict[key]\n",
    "        \n",
    "def price(x):\n",
    "    return pd.to_numeric(x.split('\\xa0')[0].replace(',',''))\n",
    "\n",
    "def duration(x):\n",
    "    hour = pd.to_numeric(x.split(' ')[0].replace('h',''))\n",
    "    minute = pd.to_numeric(x.split(' ')[1].replace('m',''))\n",
    "    return 60*hour+minute\n",
    "\n",
    "def total_stops(x):\n",
    "    if x != 'nonstop ':\n",
    "        return int(x.split(' ')[0])\n",
    "    else:\n",
    "        return 0\n",
    "        \n",
    "\n",
    "def date(x):\n",
    "    return pd.to_datetime(x)\n",
    "\n",
    "def avg_price(airline):\n",
    "    return df[df['Airline'] == airline]['price'].mean()\n"
   ]
  },
  {
   "cell_type": "code",
   "execution_count": null,
   "id": "341b8155",
   "metadata": {},
   "outputs": [],
   "source": []
  },
  {
   "cell_type": "markdown",
   "id": "fccb82f7",
   "metadata": {},
   "source": [
    "#### Apply new functions to dataset"
   ]
  },
  {
   "cell_type": "code",
   "execution_count": 9,
   "id": "af20f60b",
   "metadata": {},
   "outputs": [],
   "source": [
    "df['flight_duration'] = df['Duration'].apply(duration)\n",
    "df['total_stops'] = df['Total stops'].apply(total_stops)\n",
    "df['distance'] = df['Route'].apply(distance)\n",
    "df['price'] = df['Price'].apply(price)\n",
    "df['average_price'] = df['Airline'].apply(avg_price)"
   ]
  },
  {
   "cell_type": "code",
   "execution_count": 739,
   "id": "f893398f",
   "metadata": {},
   "outputs": [
    {
     "data": {
      "text/html": [
       "<div>\n",
       "<style scoped>\n",
       "    .dataframe tbody tr th:only-of-type {\n",
       "        vertical-align: middle;\n",
       "    }\n",
       "\n",
       "    .dataframe tbody tr th {\n",
       "        vertical-align: top;\n",
       "    }\n",
       "\n",
       "    .dataframe thead th {\n",
       "        text-align: right;\n",
       "    }\n",
       "</style>\n",
       "<table border=\"1\" class=\"dataframe\">\n",
       "  <thead>\n",
       "    <tr style=\"text-align: right;\">\n",
       "      <th></th>\n",
       "      <th>Airline</th>\n",
       "      <th>Source</th>\n",
       "      <th>Destination</th>\n",
       "      <th>Duration</th>\n",
       "      <th>Total stops</th>\n",
       "      <th>Price</th>\n",
       "      <th>Date</th>\n",
       "      <th>Route</th>\n",
       "      <th>flight_duration</th>\n",
       "      <th>total_stops</th>\n",
       "      <th>distance</th>\n",
       "      <th>price</th>\n",
       "      <th>average_price</th>\n",
       "    </tr>\n",
       "  </thead>\n",
       "  <tbody>\n",
       "    <tr>\n",
       "      <th>0</th>\n",
       "      <td>SAUDIA</td>\n",
       "      <td>DMM</td>\n",
       "      <td>ELQ</td>\n",
       "      <td>12h 20m</td>\n",
       "      <td>1 stop</td>\n",
       "      <td>469 SAR</td>\n",
       "      <td>2022-06-01</td>\n",
       "      <td>DMM-ELQ</td>\n",
       "      <td>740</td>\n",
       "      <td>1</td>\n",
       "      <td>601.0</td>\n",
       "      <td>469</td>\n",
       "      <td>1341.919464</td>\n",
       "    </tr>\n",
       "    <tr>\n",
       "      <th>1</th>\n",
       "      <td>SAUDIA</td>\n",
       "      <td>DMM</td>\n",
       "      <td>ELQ</td>\n",
       "      <td>4h 40m</td>\n",
       "      <td>1 stop</td>\n",
       "      <td>988 SAR</td>\n",
       "      <td>2022-06-01</td>\n",
       "      <td>DMM-ELQ</td>\n",
       "      <td>280</td>\n",
       "      <td>1</td>\n",
       "      <td>601.0</td>\n",
       "      <td>988</td>\n",
       "      <td>1341.919464</td>\n",
       "    </tr>\n",
       "    <tr>\n",
       "      <th>2</th>\n",
       "      <td>SAUDIA</td>\n",
       "      <td>DMM</td>\n",
       "      <td>ELQ</td>\n",
       "      <td>12h 20m</td>\n",
       "      <td>1 stop</td>\n",
       "      <td>432 SAR</td>\n",
       "      <td>2022-06-01</td>\n",
       "      <td>DMM-ELQ</td>\n",
       "      <td>740</td>\n",
       "      <td>1</td>\n",
       "      <td>601.0</td>\n",
       "      <td>432</td>\n",
       "      <td>1341.919464</td>\n",
       "    </tr>\n",
       "    <tr>\n",
       "      <th>3</th>\n",
       "      <td>SAUDIA</td>\n",
       "      <td>DMM</td>\n",
       "      <td>ELQ</td>\n",
       "      <td>7h 20m</td>\n",
       "      <td>1 stop</td>\n",
       "      <td>621 SAR</td>\n",
       "      <td>2022-06-01</td>\n",
       "      <td>DMM-ELQ</td>\n",
       "      <td>440</td>\n",
       "      <td>1</td>\n",
       "      <td>601.0</td>\n",
       "      <td>621</td>\n",
       "      <td>1341.919464</td>\n",
       "    </tr>\n",
       "    <tr>\n",
       "      <th>4</th>\n",
       "      <td>SAUDIA</td>\n",
       "      <td>DMM</td>\n",
       "      <td>ELQ</td>\n",
       "      <td>5h 40m</td>\n",
       "      <td>1 stop</td>\n",
       "      <td>751 SAR</td>\n",
       "      <td>2022-06-01</td>\n",
       "      <td>DMM-ELQ</td>\n",
       "      <td>340</td>\n",
       "      <td>1</td>\n",
       "      <td>601.0</td>\n",
       "      <td>751</td>\n",
       "      <td>1341.919464</td>\n",
       "    </tr>\n",
       "  </tbody>\n",
       "</table>\n",
       "</div>"
      ],
      "text/plain": [
       "  Airline Source Destination  Duration Total stops     Price        Date  \\\n",
       "0  SAUDIA    DMM         ELQ  12h 20m      1 stop   469 SAR   2022-06-01   \n",
       "1  SAUDIA    DMM         ELQ   4h 40m      1 stop   988 SAR   2022-06-01   \n",
       "2  SAUDIA    DMM         ELQ  12h 20m      1 stop   432 SAR   2022-06-01   \n",
       "3  SAUDIA    DMM         ELQ   7h 20m      1 stop   621 SAR   2022-06-01   \n",
       "4  SAUDIA    DMM         ELQ   5h 40m      1 stop   751 SAR   2022-06-01   \n",
       "\n",
       "     Route  flight_duration  total_stops  distance  price  average_price  \n",
       "0  DMM-ELQ              740            1     601.0    469    1341.919464  \n",
       "1  DMM-ELQ              280            1     601.0    988    1341.919464  \n",
       "2  DMM-ELQ              740            1     601.0    432    1341.919464  \n",
       "3  DMM-ELQ              440            1     601.0    621    1341.919464  \n",
       "4  DMM-ELQ              340            1     601.0    751    1341.919464  "
      ]
     },
     "execution_count": 739,
     "metadata": {},
     "output_type": "execute_result"
    }
   ],
   "source": [
    "df.head()"
   ]
  },
  {
   "cell_type": "code",
   "execution_count": null,
   "id": "da90f7d4",
   "metadata": {},
   "outputs": [],
   "source": []
  },
  {
   "cell_type": "markdown",
   "id": "591fd1e6",
   "metadata": {},
   "source": [
    "#### Drop unwanted columns and save cleaned data"
   ]
  },
  {
   "cell_type": "code",
   "execution_count": 10,
   "id": "5244a5d9",
   "metadata": {},
   "outputs": [],
   "source": [
    "\n",
    "final_df = df.drop(['Airline','Route','Duration','Total stops','Price','Date'],axis=1)\n",
    "# Saving cleaned dataset to local drive\n",
    "final_df.to_csv('cleaned_data.csv',index=False)"
   ]
  },
  {
   "cell_type": "code",
   "execution_count": null,
   "id": "6a6606e8",
   "metadata": {},
   "outputs": [],
   "source": []
  },
  {
   "cell_type": "markdown",
   "id": "0d845eda",
   "metadata": {},
   "source": [
    "#### Exploratory Data Analysis; we will explore the data to check for outliers as they could affect our model"
   ]
  },
  {
   "cell_type": "code",
   "execution_count": 14,
   "id": "c3ed4baa",
   "metadata": {},
   "outputs": [],
   "source": [
    "num_columns = ['flight_duration','distance','price','average_price']"
   ]
  },
  {
   "cell_type": "code",
   "execution_count": 15,
   "id": "64d8a67d",
   "metadata": {},
   "outputs": [
    {
     "data": {
      "image/png": "[encoded data removed]",
      "text/plain": [
       "<Figure size 1440x1080 with 4 Axes>"
      ]
     },
     "metadata": {
      "needs_background": "light"
     },
     "output_type": "display_data"
    }
   ],
   "source": [
    "plt.figure(figsize=[20,15])\n",
    "for i in range(0,len(num_columns)):\n",
    "    plt.subplot(3,2,i+1)\n",
    "    sns.boxplot(x=num_columns[i],data=df)\n",
    "plt.savefig('data_with_outlier.png')"
   ]
  },
  {
   "cell_type": "code",
   "execution_count": null,
   "id": "dc57eb70",
   "metadata": {},
   "outputs": [],
   "source": []
  },
  {
   "cell_type": "markdown",
   "id": "ed3186fa",
   "metadata": {},
   "source": [
    "#### Remove outliers from numerical columns "
   ]
  },
  {
   "cell_type": "code",
   "execution_count": 16,
   "id": "f81e2ffa",
   "metadata": {},
   "outputs": [],
   "source": [
    "outlier_columns = ['flight_duration','distance','price','average_price']"
   ]
  },
  {
   "cell_type": "code",
   "execution_count": 28,
   "id": "7902cbc7",
   "metadata": {},
   "outputs": [
    {
     "data": {
      "text/plain": [
       "(11120, 7)"
      ]
     },
     "execution_count": 28,
     "metadata": {},
     "output_type": "execute_result"
    }
   ],
   "source": [
    "# Removing the outliers for price\n",
    "final_df = final_df[final_df['price'] < final_df['price'].quantile(0.75)+1.5*iqr(final_df['price'])]\n",
    "# Removing the outliers for price\n",
    "final_df = final_df[final_df['flight_duration'] < final_df['flight_duration'].quantile(0.75)+1.5*iqr(final_df['flight_duration'])]\n",
    "# Removing outliers for flight_duration\n",
    "final_df = final_df[final_df['distance'] < final_df['distance'].quantile(0.75)+1.5*iqr(final_df['distance'])]\n",
    "# Removing outliers for flight_duration\n",
    "final_df = final_df[final_df['average_price'] < final_df['average_price'].quantile(0.75)+1.5*iqr(final_df['average_price'])]\n",
    "\n",
    "final_df.shape"
   ]
  },
  {
   "cell_type": "code",
   "execution_count": 365,
   "id": "1017243a",
   "metadata": {},
   "outputs": [],
   "source": []
  },
  {
   "cell_type": "markdown",
   "id": "f4b0a69f",
   "metadata": {},
   "source": [
    "#### Boxplots of numerical columns with outliers"
   ]
  },
  {
   "cell_type": "code",
   "execution_count": 29,
   "id": "a8db5add",
   "metadata": {},
   "outputs": [
    {
     "data": {
      "image/png": "[encoded data removed]",
      "text/plain": [
       "<Figure size 1440x1080 with 4 Axes>"
      ]
     },
     "metadata": {
      "needs_background": "light"
     },
     "output_type": "display_data"
    }
   ],
   "source": [
    "plt.figure(figsize=[20,15])\n",
    "for i in range(0,len(num_columns)):\n",
    "    plt.subplot(3,2,i+1)\n",
    "    sns.boxplot(x=num_columns[i],data=final_df)\n",
    "plt.savefig('data_without_outlier.png')"
   ]
  },
  {
   "cell_type": "code",
   "execution_count": null,
   "id": "fd5062d8",
   "metadata": {},
   "outputs": [],
   "source": []
  },
  {
   "cell_type": "markdown",
   "id": "9e525c2c",
   "metadata": {},
   "source": [
    "#### Correlation plots"
   ]
  },
  {
   "cell_type": "code",
   "execution_count": 30,
   "id": "1abc030a",
   "metadata": {},
   "outputs": [
    {
     "data": {
      "image/png": "[encoded data removed]",
      "text/plain": [
       "<Figure size 1296x1296 with 2 Axes>"
      ]
     },
     "metadata": {
      "needs_background": "light"
     },
     "output_type": "display_data"
    }
   ],
   "source": [
    "plt.figure(figsize = (18,18))\n",
    "\n",
    "sns.heatmap(final_df.corr(),annot= True, cmap = \"coolwarm\")\n",
    "\n",
    "plt.show()"
   ]
  },
  {
   "cell_type": "code",
   "execution_count": null,
   "id": "447ab0b8",
   "metadata": {},
   "outputs": [],
   "source": []
  },
  {
   "cell_type": "markdown",
   "id": "bad98adc",
   "metadata": {},
   "source": [
    "#### Creating Features and Labels columns"
   ]
  },
  {
   "cell_type": "code",
   "execution_count": 43,
   "id": "0df63c7c",
   "metadata": {},
   "outputs": [],
   "source": [
    "df_copy = final_df.copy()"
   ]
  },
  {
   "cell_type": "code",
   "execution_count": 45,
   "id": "355881a8",
   "metadata": {},
   "outputs": [],
   "source": [
    "X = df_copy.drop('price',axis=1)\n",
    "y = df_copy['price']"
   ]
  },
  {
   "cell_type": "code",
   "execution_count": 46,
   "id": "c3eaf6f3",
   "metadata": {},
   "outputs": [
    {
     "data": {
      "text/html": [
       "<div>\n",
       "<style scoped>\n",
       "    .dataframe tbody tr th:only-of-type {\n",
       "        vertical-align: middle;\n",
       "    }\n",
       "\n",
       "    .dataframe tbody tr th {\n",
       "        vertical-align: top;\n",
       "    }\n",
       "\n",
       "    .dataframe thead th {\n",
       "        text-align: right;\n",
       "    }\n",
       "</style>\n",
       "<table border=\"1\" class=\"dataframe\">\n",
       "  <thead>\n",
       "    <tr style=\"text-align: right;\">\n",
       "      <th></th>\n",
       "      <th>Source</th>\n",
       "      <th>Destination</th>\n",
       "      <th>flight_duration</th>\n",
       "      <th>total_stops</th>\n",
       "      <th>distance</th>\n",
       "      <th>average_price</th>\n",
       "    </tr>\n",
       "  </thead>\n",
       "  <tbody>\n",
       "    <tr>\n",
       "      <th>0</th>\n",
       "      <td>DMM</td>\n",
       "      <td>ELQ</td>\n",
       "      <td>740</td>\n",
       "      <td>1</td>\n",
       "      <td>601.0</td>\n",
       "      <td>1311.056028</td>\n",
       "    </tr>\n",
       "    <tr>\n",
       "      <th>1</th>\n",
       "      <td>DMM</td>\n",
       "      <td>ELQ</td>\n",
       "      <td>280</td>\n",
       "      <td>1</td>\n",
       "      <td>601.0</td>\n",
       "      <td>1311.056028</td>\n",
       "    </tr>\n",
       "    <tr>\n",
       "      <th>2</th>\n",
       "      <td>DMM</td>\n",
       "      <td>ELQ</td>\n",
       "      <td>740</td>\n",
       "      <td>1</td>\n",
       "      <td>601.0</td>\n",
       "      <td>1311.056028</td>\n",
       "    </tr>\n",
       "    <tr>\n",
       "      <th>3</th>\n",
       "      <td>DMM</td>\n",
       "      <td>ELQ</td>\n",
       "      <td>440</td>\n",
       "      <td>1</td>\n",
       "      <td>601.0</td>\n",
       "      <td>1311.056028</td>\n",
       "    </tr>\n",
       "    <tr>\n",
       "      <th>4</th>\n",
       "      <td>DMM</td>\n",
       "      <td>ELQ</td>\n",
       "      <td>340</td>\n",
       "      <td>1</td>\n",
       "      <td>601.0</td>\n",
       "      <td>1311.056028</td>\n",
       "    </tr>\n",
       "  </tbody>\n",
       "</table>\n",
       "</div>"
      ],
      "text/plain": [
       "  Source Destination  flight_duration  total_stops  distance  average_price\n",
       "0    DMM         ELQ              740            1     601.0    1311.056028\n",
       "1    DMM         ELQ              280            1     601.0    1311.056028\n",
       "2    DMM         ELQ              740            1     601.0    1311.056028\n",
       "3    DMM         ELQ              440            1     601.0    1311.056028\n",
       "4    DMM         ELQ              340            1     601.0    1311.056028"
      ]
     },
     "execution_count": 46,
     "metadata": {},
     "output_type": "execute_result"
    }
   ],
   "source": [
    "X.head()"
   ]
  },
  {
   "cell_type": "code",
   "execution_count": 47,
   "id": "45a0685e",
   "metadata": {},
   "outputs": [],
   "source": [
    "X_cat = X[['Source','Destination']]\n",
    "X_num = X[['flight_duration','total_stops','distance','average_price']]"
   ]
  },
  {
   "cell_type": "code",
   "execution_count": 50,
   "id": "d2432cf8",
   "metadata": {},
   "outputs": [],
   "source": [
    "# Using StandardScaler to standardize numerical columns\n",
    "scaler = StandardScaler()\n",
    "X_num_scaled = scaler.fit_transform(X_num.values)"
   ]
  },
  {
   "cell_type": "code",
   "execution_count": 51,
   "id": "eebfd61a",
   "metadata": {},
   "outputs": [],
   "source": [
    "# Using pd.get_dummies to convert catgerical columns\n",
    "X_cat_convert = pd.get_dummies(X_cat)"
   ]
  },
  {
   "cell_type": "code",
   "execution_count": 53,
   "id": "22f88f91",
   "metadata": {},
   "outputs": [],
   "source": [
    "# Joining numerical and categorical columns\n",
    "X = np.c_[X_num_scaled,X_cat_convert.values]"
   ]
  },
  {
   "cell_type": "code",
   "execution_count": 60,
   "id": "ab1c143d",
   "metadata": {},
   "outputs": [],
   "source": [
    "# Making the new dataframe\n",
    "X_new = pd.DataFrame(X,columns=['flight_duration','total_stops','distance','average_price']+list(X_cat_convert.columns))"
   ]
  },
  {
   "cell_type": "code",
   "execution_count": null,
   "id": "c22192cb",
   "metadata": {},
   "outputs": [],
   "source": []
  },
  {
   "cell_type": "markdown",
   "id": "352b6261",
   "metadata": {},
   "source": [
    "#### Model Benchmarking"
   ]
  },
  {
   "cell_type": "code",
   "execution_count": 88,
   "id": "2d17c8db",
   "metadata": {},
   "outputs": [],
   "source": [
    "X_train, X_test, y_train, y_test = train_test_split(X_new, y, test_size=0.2)"
   ]
  },
  {
   "cell_type": "code",
   "execution_count": 89,
   "id": "4c237388",
   "metadata": {},
   "outputs": [],
   "source": [
    "lr = LinearRegression()\n",
    "sgd = SGDRegressor()\n",
    "rf = RandomForestRegressor()\n",
    "dtr = DecisionTreeRegressor()\n",
    "xgb = GradientBoostingRegressor()\n",
    "etr = ExtraTreesRegressor()\n",
    "svr = SVR()\n",
    "mlp = MLPRegressor()\n",
    "eln = ElasticNet()"
   ]
  },
  {
   "cell_type": "code",
   "execution_count": 90,
   "id": "0959a4e4",
   "metadata": {},
   "outputs": [],
   "source": [
    "models = [lr,sgd,rf,dtr,xgb,etr,svr,mlp,eln]"
   ]
  },
  {
   "cell_type": "code",
   "execution_count": 91,
   "id": "6603bbb0",
   "metadata": {},
   "outputs": [],
   "source": [
    "def get_metrics(models):\n",
    "    new = []\n",
    "    for model in models:\n",
    "        \n",
    "        model.fit(X_train,y_train)\n",
    "        score = cross_val_score(model, X_train, y_train, cv=5).mean().round(2)\n",
    "        y_pred = model.predict(X_test)\n",
    "        MAE = mean_absolute_error(y_pred,y_test).round(0)\n",
    "        MSE = mean_squared_error(y_pred,y_test).round(0)\n",
    "        RMSE = np.sqrt(mean_squared_error(y_pred,y_test)).round(0)\n",
    "        new.append([score,MAE,MSE,RMSE])\n",
    "    result = np.array(new)\n",
    "    result = result.reshape(9,4)\n",
    "    result = pd.DataFrame(result,columns=['score','MAE','MSE','RMSE'],index=['Linear Regression','SGDRegresor','Random Forest Regressor',\n",
    "                                                                            'Decision Tree Regressor','Gradient Boosting Regressor',\n",
    "                                                                             'ExtraTressRegressor','SVR','MLPRegressor','ElasticNet'])\n",
    "    return result"
   ]
  },
  {
   "cell_type": "code",
   "execution_count": 92,
   "id": "d2224483",
   "metadata": {},
   "outputs": [
    {
     "name": "stderr",
     "output_type": "stream",
     "text": [
      "/home/uche/Desktop/interactive_dashboard/project/dashboard_venv/lib/python3.9/site-packages/sklearn/neural_network/_multilayer_perceptron.py:702: ConvergenceWarning: Stochastic Optimizer: Maximum iterations (200) reached and the optimization hasn't converged yet.\n",
      "  warnings.warn(\n",
      "/home/uche/Desktop/interactive_dashboard/project/dashboard_venv/lib/python3.9/site-packages/sklearn/neural_network/_multilayer_perceptron.py:702: ConvergenceWarning: Stochastic Optimizer: Maximum iterations (200) reached and the optimization hasn't converged yet.\n",
      "  warnings.warn(\n",
      "/home/uche/Desktop/interactive_dashboard/project/dashboard_venv/lib/python3.9/site-packages/sklearn/neural_network/_multilayer_perceptron.py:702: ConvergenceWarning: Stochastic Optimizer: Maximum iterations (200) reached and the optimization hasn't converged yet.\n",
      "  warnings.warn(\n",
      "/home/uche/Desktop/interactive_dashboard/project/dashboard_venv/lib/python3.9/site-packages/sklearn/neural_network/_multilayer_perceptron.py:702: ConvergenceWarning: Stochastic Optimizer: Maximum iterations (200) reached and the optimization hasn't converged yet.\n",
      "  warnings.warn(\n",
      "/home/uche/Desktop/interactive_dashboard/project/dashboard_venv/lib/python3.9/site-packages/sklearn/neural_network/_multilayer_perceptron.py:702: ConvergenceWarning: Stochastic Optimizer: Maximum iterations (200) reached and the optimization hasn't converged yet.\n",
      "  warnings.warn(\n",
      "/home/uche/Desktop/interactive_dashboard/project/dashboard_venv/lib/python3.9/site-packages/sklearn/neural_network/_multilayer_perceptron.py:702: ConvergenceWarning: Stochastic Optimizer: Maximum iterations (200) reached and the optimization hasn't converged yet.\n",
      "  warnings.warn(\n"
     ]
    },
    {
     "data": {
      "text/html": [
       "<div>\n",
       "<style scoped>\n",
       "    .dataframe tbody tr th:only-of-type {\n",
       "        vertical-align: middle;\n",
       "    }\n",
       "\n",
       "    .dataframe tbody tr th {\n",
       "        vertical-align: top;\n",
       "    }\n",
       "\n",
       "    .dataframe thead th {\n",
       "        text-align: right;\n",
       "    }\n",
       "</style>\n",
       "<table border=\"1\" class=\"dataframe\">\n",
       "  <thead>\n",
       "    <tr style=\"text-align: right;\">\n",
       "      <th></th>\n",
       "      <th>score</th>\n",
       "      <th>MAE</th>\n",
       "      <th>MSE</th>\n",
       "      <th>RMSE</th>\n",
       "    </tr>\n",
       "  </thead>\n",
       "  <tbody>\n",
       "    <tr>\n",
       "      <th>Linear Regression</th>\n",
       "      <td>0.64</td>\n",
       "      <td>253.0</td>\n",
       "      <td>115616.0</td>\n",
       "      <td>340.0</td>\n",
       "    </tr>\n",
       "    <tr>\n",
       "      <th>SGDRegresor</th>\n",
       "      <td>0.64</td>\n",
       "      <td>253.0</td>\n",
       "      <td>116246.0</td>\n",
       "      <td>341.0</td>\n",
       "    </tr>\n",
       "    <tr>\n",
       "      <th>Random Forest Regressor</th>\n",
       "      <td>0.83</td>\n",
       "      <td>146.0</td>\n",
       "      <td>55983.0</td>\n",
       "      <td>237.0</td>\n",
       "    </tr>\n",
       "    <tr>\n",
       "      <th>Decision Tree Regressor</th>\n",
       "      <td>0.79</td>\n",
       "      <td>152.0</td>\n",
       "      <td>61530.0</td>\n",
       "      <td>248.0</td>\n",
       "    </tr>\n",
       "    <tr>\n",
       "      <th>Gradient Boosting Regressor</th>\n",
       "      <td>0.74</td>\n",
       "      <td>207.0</td>\n",
       "      <td>83397.0</td>\n",
       "      <td>289.0</td>\n",
       "    </tr>\n",
       "    <tr>\n",
       "      <th>ExtraTressRegressor</th>\n",
       "      <td>0.81</td>\n",
       "      <td>148.0</td>\n",
       "      <td>59327.0</td>\n",
       "      <td>244.0</td>\n",
       "    </tr>\n",
       "    <tr>\n",
       "      <th>SVR</th>\n",
       "      <td>0.50</td>\n",
       "      <td>278.0</td>\n",
       "      <td>144053.0</td>\n",
       "      <td>380.0</td>\n",
       "    </tr>\n",
       "    <tr>\n",
       "      <th>MLPRegressor</th>\n",
       "      <td>0.65</td>\n",
       "      <td>246.0</td>\n",
       "      <td>110872.0</td>\n",
       "      <td>333.0</td>\n",
       "    </tr>\n",
       "    <tr>\n",
       "      <th>ElasticNet</th>\n",
       "      <td>0.57</td>\n",
       "      <td>283.0</td>\n",
       "      <td>134071.0</td>\n",
       "      <td>366.0</td>\n",
       "    </tr>\n",
       "  </tbody>\n",
       "</table>\n",
       "</div>"
      ],
      "text/plain": [
       "                             score    MAE       MSE   RMSE\n",
       "Linear Regression             0.64  253.0  115616.0  340.0\n",
       "SGDRegresor                   0.64  253.0  116246.0  341.0\n",
       "Random Forest Regressor       0.83  146.0   55983.0  237.0\n",
       "Decision Tree Regressor       0.79  152.0   61530.0  248.0\n",
       "Gradient Boosting Regressor   0.74  207.0   83397.0  289.0\n",
       "ExtraTressRegressor           0.81  148.0   59327.0  244.0\n",
       "SVR                           0.50  278.0  144053.0  380.0\n",
       "MLPRegressor                  0.65  246.0  110872.0  333.0\n",
       "ElasticNet                    0.57  283.0  134071.0  366.0"
      ]
     },
     "execution_count": 92,
     "metadata": {},
     "output_type": "execute_result"
    }
   ],
   "source": [
    "final = get_metrics(models)\n",
    "final"
   ]
  },
  {
   "cell_type": "code",
   "execution_count": 85,
   "id": "88b57489",
   "metadata": {},
   "outputs": [],
   "source": [
    "final.to_csv('final_result.csv')"
   ]
  },
  {
   "cell_type": "code",
   "execution_count": null,
   "id": "c19b10d3",
   "metadata": {},
   "outputs": [],
   "source": []
  },
  {
   "cell_type": "markdown",
   "id": "eb7bd1b6",
   "metadata": {},
   "source": [
    "#### Deduction; the metrics displayed on the final dataframe reveals that Random Forest Regressor and Extra Trees Regressor perform better than other regression models. Therefore, both models will be explored with Hyper-parameter tunning "
   ]
  },
  {
   "cell_type": "code",
   "execution_count": 119,
   "id": "a624c064",
   "metadata": {},
   "outputs": [
    {
     "data": {
      "image/png": "[encoded data removed]",
      "text/plain": [
       "<Figure size 576x432 with 1 Axes>"
      ]
     },
     "metadata": {},
     "output_type": "display_data"
    },
    {
     "data": {
      "image/png": "[encoded data removed]",
      "text/plain": [
       "<Figure size 576x432 with 1 Axes>"
      ]
     },
     "metadata": {},
     "output_type": "display_data"
    },
    {
     "data": {
      "image/png": "[encoded data removed]",
      "text/plain": [
       "<Figure size 576x432 with 1 Axes>"
      ]
     },
     "metadata": {},
     "output_type": "display_data"
    }
   ],
   "source": [
    "# plotting graph of important features for Random Forest, Decision Tree and Gradient Boosting regressors\n",
    "visual_models = [rf,dtr,xgb]\n",
    "plt.figure(figsize = (10,10))\n",
    "\n",
    "for model in range(0,len(visual_models)):\n",
    "    plt.subplot(1,3,i)\n",
    "    visual_models[model].fit(X_train,y_train)\n",
    "    feat_importances = pd.Series(visual_models[model].feature_importances_,index=X_new.columns)\n",
    "    feat_importances.nlargest(15).plot(kind=\"barh\",figsize=(8,6))\n",
    "    plt.show()"
   ]
  },
  {
   "cell_type": "markdown",
   "id": "82b40825",
   "metadata": {},
   "source": [
    "##### Deductions; The biggest contributors to flight ticket price prediction are average_price, distance and flight_duration"
   ]
  }
 ],
 "metadata": {
  "kernelspec": {
   "display_name": "Python 3 (ipykernel)",
   "language": "python",
   "name": "python3"
  },
  "language_info": {
   "codemirror_mode": {
    "name": "ipython",
    "version": 3
   },
   "file_extension": ".py",
   "mimetype": "text/x-python",
   "name": "python",
   "nbconvert_exporter": "python",
   "pygments_lexer": "ipython3",
   "version": "3.9.12"
  }
 },
 "nbformat": 4,
 "nbformat_minor": 5
}
